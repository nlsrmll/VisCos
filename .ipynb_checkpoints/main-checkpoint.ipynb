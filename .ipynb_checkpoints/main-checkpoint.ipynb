{
 "cells": [
  {
   "metadata": {
    "ExecuteTime": {
     "end_time": "2025-02-03T17:53:49.322054Z",
     "start_time": "2025-02-03T17:53:49.319316Z"
    }
   },
   "cell_type": "code",
   "source": [
    "from packages.image_analyse.DataReader import CSVDataFrame\n",
    "from packages.study_data.analyzer import StudyAnalyzer\n",
    "from packages.study_data.visualizer import StudyDataVisualizer\n",
    "\n",
    "path_to_study = './data/likert_results.csv'\n",
    "\n"
   ],
   "id": "cc0fe97e1db059db",
   "outputs": [],
   "execution_count": 82
  },
  {
   "metadata": {
    "ExecuteTime": {
     "end_time": "2025-02-03T17:53:49.330769Z",
     "start_time": "2025-02-03T17:53:49.326376Z"
    }
   },
   "cell_type": "code",
   "source": [
    "likert_csv = CSVDataFrame(path_to_study)\n",
    "analyzer = StudyAnalyzer(likert_csv)\n",
    "visualizer = StudyDataVisualizer(analyzer)"
   ],
   "id": "c6e72db216bd337e",
   "outputs": [],
   "execution_count": 83
  },
  {
   "metadata": {
    "ExecuteTime": {
     "end_time": "2025-02-03T17:53:50.657678Z",
     "start_time": "2025-02-03T17:53:50.647220Z"
    }
   },
   "cell_type": "code",
   "source": [
    "analyzer.calculate_pca(2)\n",
    "analyzer.calculate_kmeans(cluster_count=3)\n"
   ],
   "id": "af57a05ba7483baf",
   "outputs": [
    {
     "data": {
      "text/plain": [
       "array([0, 1, 1, 0, 1, 0, 0, 2, 0, 1, 0, 1, 1, 2, 1, 0, 0, 0, 0, 1, 0, 0,\n",
       "       1, 1, 2, 2, 2, 0, 2, 0, 1, 2, 2, 2, 0, 0, 0, 1, 1, 0, 2, 2, 2, 1,\n",
       "       0, 2, 0, 0, 0, 2], dtype=int32)"
      ]
     },
     "execution_count": 84,
     "metadata": {},
     "output_type": "execute_result"
    }
   ],
   "execution_count": 84
  },
  {
   "metadata": {
    "ExecuteTime": {
     "end_time": "2025-02-03T17:53:51.990298Z",
     "start_time": "2025-02-03T17:53:51.971355Z"
    }
   },
   "cell_type": "code",
   "source": "visualizer.cluster_as_scatter()",
   "id": "2b1f10ed5249875d",
   "outputs": [
    {
     "data": {
      "application/vnd.plotly.v1+json": {
       "data": [
        {
         "hovertemplate": "%{text} <extra></extra>",
         "marker": {
          "color": "black",
          "size": 12,
          "symbol": "x"
         },
         "mode": "markers",
         "name": "Centroids",
         "text": [
          "Center of Cluster 0",
          "Center of Cluster 1",
          "Center of Cluster 2"
         ],
         "x": [
          3.0356675343463837,
          -1.5350478961805565,
          -3.235286800649475
         ],
         "y": [
          -0.23091961296956065,
          1.8009774712695432,
          -1.4381037937459475
         ],
         "type": "scatter"
        },
        {
         "hovertemplate": "%{text} <extra></extra>",
         "marker": {
          "color": "rgb(216.75, 0.0, 0.0)",
          "size": 8
         },
         "mode": "markers",
         "name": "Cluster 0",
         "text": [
          "Participant: 0",
          "Participant: 3",
          "Participant: 5",
          "Participant: 6",
          "Participant: 8",
          "Participant: 10",
          "Participant: 15",
          "Participant: 16",
          "Participant: 17",
          "Participant: 18",
          "Participant: 20",
          "Participant: 21",
          "Participant: 27",
          "Participant: 29",
          "Participant: 34",
          "Participant: 35",
          "Participant: 36",
          "Participant: 39",
          "Participant: 44",
          "Participant: 46",
          "Participant: 47",
          "Participant: 48"
         ],
         "x": [
          4.189240994376471,
          2.31206534053825,
          3.156362511950258,
          0.7954597397283012,
          1.8317867683462787,
          2.7936003924168444,
          5.284335949132742,
          3.6569295084490676,
          1.8718528802015737,
          4.586344056577254,
          1.6504662495109534,
          3.640273234358083,
          4.068186739223338,
          2.440840670734469,
          1.946995394445901,
          3.136006068411027,
          4.067867036935964,
          0.8639187777387548,
          2.4960626848134018,
          1.7088239390687192,
          4.1653011390249395,
          6.121965679637846
         ],
         "y": [
          1.0940314718395445,
          -0.5025638674601793,
          -5.587981657219812,
          3.9865753902194537E-4,
          -0.33502967802830086,
          1.8238350499366278,
          -0.826874578103304,
          3.2448116336781636,
          0.8060060942599977,
          1.085455521867581,
          1.3784289571579271,
          0.8002075610428332,
          1.4523614202136228,
          -0.7927590125359237,
          -1.7293748478167301,
          -3.107857185100112,
          -4.873091997551397,
          0.6265816918173026,
          0.32959058028298305,
          -1.1401459436444767,
          1.5775210522426821,
          -0.40378240974838686
         ],
         "type": "scatter"
        },
        {
         "hovertemplate": "%{text} <extra></extra>",
         "marker": {
          "color": "rgb(0.0, 216.75, 0.0)",
          "size": 8
         },
         "mode": "markers",
         "name": "Cluster 1",
         "text": [
          "Participant: 1",
          "Participant: 2",
          "Participant: 4",
          "Participant: 9",
          "Participant: 11",
          "Participant: 12",
          "Participant: 14",
          "Participant: 19",
          "Participant: 22",
          "Participant: 23",
          "Participant: 30",
          "Participant: 37",
          "Participant: 38",
          "Participant: 43"
         ],
         "x": [
          -3.151443663720011,
          -0.9022248715287069,
          -2.4318611572409194,
          0.006101026572468264,
          -0.9478487030421123,
          -2.172055982272912,
          -2.35848218834252,
          -2.386134627578937,
          0.26705497339675294,
          -3.9248811386377067,
          -0.20308416843814417,
          -0.4998096375408728,
          -1.4994352672960214,
          -1.2865651408581482
         ],
         "y": [
          3.4149745252738137,
          1.9954834932186647,
          2.074865055960789,
          1.4650710471992043,
          -0.0740810851173339,
          3.0668013797521656,
          3.3945048475592445,
          2.47901725974132,
          1.0096303671158342,
          2.1306490587157723,
          -0.15815535707086636,
          1.9978481011970841,
          0.10161497959290007,
          2.3154609246350124
         ],
         "type": "scatter"
        },
        {
         "hovertemplate": "%{text} <extra></extra>",
         "marker": {
          "color": "rgb(0.0, 0.0, 216.75)",
          "size": 8
         },
         "mode": "markers",
         "name": "Cluster 2",
         "text": [
          "Participant: 7",
          "Participant: 13",
          "Participant: 24",
          "Participant: 25",
          "Participant: 26",
          "Participant: 28",
          "Participant: 31",
          "Participant: 32",
          "Participant: 33",
          "Participant: 40",
          "Participant: 41",
          "Participant: 42",
          "Participant: 45",
          "Participant: 49"
         ],
         "x": [
          -3.657632171566988,
          -3.1149703730337484,
          -3.7878517963154237,
          -2.5067395304624407,
          -5.831146834903976,
          -2.466491544570422,
          -3.82154407864275,
          -3.68961385441438,
          -2.899317238227246,
          -3.676980895309729,
          -2.2615463263155817,
          -2.442247861453028,
          -2.0597891116294265,
          -3.0781435922475073
         ],
         "y": [
          -0.13083126278331117,
          -0.3558700725290462,
          -1.5636358579034155,
          -0.5238165364553194,
          -0.9653328941999945,
          -2.6884343934534205,
          -3.6624254563336214,
          -3.8549006758598328,
          -0.09027021816968066,
          0.10321551313190924,
          -0.2446316513761178,
          -2.023264285851604,
          -1.0682660817492484,
          -3.0649892389105635
         ],
         "type": "scatter"
        }
       ],
       "layout": {
        "template": {
         "data": {
          "histogram2dcontour": [
           {
            "type": "histogram2dcontour",
            "colorbar": {
             "outlinewidth": 0,
             "ticks": ""
            },
            "colorscale": [
             [
              0.0,
              "#0d0887"
             ],
             [
              0.1111111111111111,
              "#46039f"
             ],
             [
              0.2222222222222222,
              "#7201a8"
             ],
             [
              0.3333333333333333,
              "#9c179e"
             ],
             [
              0.4444444444444444,
              "#bd3786"
             ],
             [
              0.5555555555555556,
              "#d8576b"
             ],
             [
              0.6666666666666666,
              "#ed7953"
             ],
             [
              0.7777777777777778,
              "#fb9f3a"
             ],
             [
              0.8888888888888888,
              "#fdca26"
             ],
             [
              1.0,
              "#f0f921"
             ]
            ]
           }
          ],
          "choropleth": [
           {
            "type": "choropleth",
            "colorbar": {
             "outlinewidth": 0,
             "ticks": ""
            }
           }
          ],
          "histogram2d": [
           {
            "type": "histogram2d",
            "colorbar": {
             "outlinewidth": 0,
             "ticks": ""
            },
            "colorscale": [
             [
              0.0,
              "#0d0887"
             ],
             [
              0.1111111111111111,
              "#46039f"
             ],
             [
              0.2222222222222222,
              "#7201a8"
             ],
             [
              0.3333333333333333,
              "#9c179e"
             ],
             [
              0.4444444444444444,
              "#bd3786"
             ],
             [
              0.5555555555555556,
              "#d8576b"
             ],
             [
              0.6666666666666666,
              "#ed7953"
             ],
             [
              0.7777777777777778,
              "#fb9f3a"
             ],
             [
              0.8888888888888888,
              "#fdca26"
             ],
             [
              1.0,
              "#f0f921"
             ]
            ]
           }
          ],
          "heatmap": [
           {
            "type": "heatmap",
            "colorbar": {
             "outlinewidth": 0,
             "ticks": ""
            },
            "colorscale": [
             [
              0.0,
              "#0d0887"
             ],
             [
              0.1111111111111111,
              "#46039f"
             ],
             [
              0.2222222222222222,
              "#7201a8"
             ],
             [
              0.3333333333333333,
              "#9c179e"
             ],
             [
              0.4444444444444444,
              "#bd3786"
             ],
             [
              0.5555555555555556,
              "#d8576b"
             ],
             [
              0.6666666666666666,
              "#ed7953"
             ],
             [
              0.7777777777777778,
              "#fb9f3a"
             ],
             [
              0.8888888888888888,
              "#fdca26"
             ],
             [
              1.0,
              "#f0f921"
             ]
            ]
           }
          ],
          "heatmapgl": [
           {
            "type": "heatmapgl",
            "colorbar": {
             "outlinewidth": 0,
             "ticks": ""
            },
            "colorscale": [
             [
              0.0,
              "#0d0887"
             ],
             [
              0.1111111111111111,
              "#46039f"
             ],
             [
              0.2222222222222222,
              "#7201a8"
             ],
             [
              0.3333333333333333,
              "#9c179e"
             ],
             [
              0.4444444444444444,
              "#bd3786"
             ],
             [
              0.5555555555555556,
              "#d8576b"
             ],
             [
              0.6666666666666666,
              "#ed7953"
             ],
             [
              0.7777777777777778,
              "#fb9f3a"
             ],
             [
              0.8888888888888888,
              "#fdca26"
             ],
             [
              1.0,
              "#f0f921"
             ]
            ]
           }
          ],
          "contourcarpet": [
           {
            "type": "contourcarpet",
            "colorbar": {
             "outlinewidth": 0,
             "ticks": ""
            }
           }
          ],
          "contour": [
           {
            "type": "contour",
            "colorbar": {
             "outlinewidth": 0,
             "ticks": ""
            },
            "colorscale": [
             [
              0.0,
              "#0d0887"
             ],
             [
              0.1111111111111111,
              "#46039f"
             ],
             [
              0.2222222222222222,
              "#7201a8"
             ],
             [
              0.3333333333333333,
              "#9c179e"
             ],
             [
              0.4444444444444444,
              "#bd3786"
             ],
             [
              0.5555555555555556,
              "#d8576b"
             ],
             [
              0.6666666666666666,
              "#ed7953"
             ],
             [
              0.7777777777777778,
              "#fb9f3a"
             ],
             [
              0.8888888888888888,
              "#fdca26"
             ],
             [
              1.0,
              "#f0f921"
             ]
            ]
           }
          ],
          "surface": [
           {
            "type": "surface",
            "colorbar": {
             "outlinewidth": 0,
             "ticks": ""
            },
            "colorscale": [
             [
              0.0,
              "#0d0887"
             ],
             [
              0.1111111111111111,
              "#46039f"
             ],
             [
              0.2222222222222222,
              "#7201a8"
             ],
             [
              0.3333333333333333,
              "#9c179e"
             ],
             [
              0.4444444444444444,
              "#bd3786"
             ],
             [
              0.5555555555555556,
              "#d8576b"
             ],
             [
              0.6666666666666666,
              "#ed7953"
             ],
             [
              0.7777777777777778,
              "#fb9f3a"
             ],
             [
              0.8888888888888888,
              "#fdca26"
             ],
             [
              1.0,
              "#f0f921"
             ]
            ]
           }
          ],
          "mesh3d": [
           {
            "type": "mesh3d",
            "colorbar": {
             "outlinewidth": 0,
             "ticks": ""
            }
           }
          ],
          "scatter": [
           {
            "marker": {
             "line": {
              "color": "#283442"
             }
            },
            "type": "scatter"
           }
          ],
          "parcoords": [
           {
            "type": "parcoords",
            "line": {
             "colorbar": {
              "outlinewidth": 0,
              "ticks": ""
             }
            }
           }
          ],
          "scatterpolargl": [
           {
            "type": "scatterpolargl",
            "marker": {
             "colorbar": {
              "outlinewidth": 0,
              "ticks": ""
             }
            }
           }
          ],
          "bar": [
           {
            "error_x": {
             "color": "#f2f5fa"
            },
            "error_y": {
             "color": "#f2f5fa"
            },
            "marker": {
             "line": {
              "color": "rgb(17,17,17)",
              "width": 0.5
             },
             "pattern": {
              "fillmode": "overlay",
              "size": 10,
              "solidity": 0.2
             }
            },
            "type": "bar"
           }
          ],
          "scattergeo": [
           {
            "type": "scattergeo",
            "marker": {
             "colorbar": {
              "outlinewidth": 0,
              "ticks": ""
             }
            }
           }
          ],
          "scatterpolar": [
           {
            "type": "scatterpolar",
            "marker": {
             "colorbar": {
              "outlinewidth": 0,
              "ticks": ""
             }
            }
           }
          ],
          "histogram": [
           {
            "marker": {
             "pattern": {
              "fillmode": "overlay",
              "size": 10,
              "solidity": 0.2
             }
            },
            "type": "histogram"
           }
          ],
          "scattergl": [
           {
            "marker": {
             "line": {
              "color": "#283442"
             }
            },
            "type": "scattergl"
           }
          ],
          "scatter3d": [
           {
            "type": "scatter3d",
            "line": {
             "colorbar": {
              "outlinewidth": 0,
              "ticks": ""
             }
            },
            "marker": {
             "colorbar": {
              "outlinewidth": 0,
              "ticks": ""
             }
            }
           }
          ],
          "scattermapbox": [
           {
            "type": "scattermapbox",
            "marker": {
             "colorbar": {
              "outlinewidth": 0,
              "ticks": ""
             }
            }
           }
          ],
          "scatterternary": [
           {
            "type": "scatterternary",
            "marker": {
             "colorbar": {
              "outlinewidth": 0,
              "ticks": ""
             }
            }
           }
          ],
          "scattercarpet": [
           {
            "type": "scattercarpet",
            "marker": {
             "colorbar": {
              "outlinewidth": 0,
              "ticks": ""
             }
            }
           }
          ],
          "carpet": [
           {
            "aaxis": {
             "endlinecolor": "#A2B1C6",
             "gridcolor": "#506784",
             "linecolor": "#506784",
             "minorgridcolor": "#506784",
             "startlinecolor": "#A2B1C6"
            },
            "baxis": {
             "endlinecolor": "#A2B1C6",
             "gridcolor": "#506784",
             "linecolor": "#506784",
             "minorgridcolor": "#506784",
             "startlinecolor": "#A2B1C6"
            },
            "type": "carpet"
           }
          ],
          "table": [
           {
            "cells": {
             "fill": {
              "color": "#506784"
             },
             "line": {
              "color": "rgb(17,17,17)"
             }
            },
            "header": {
             "fill": {
              "color": "#2a3f5f"
             },
             "line": {
              "color": "rgb(17,17,17)"
             }
            },
            "type": "table"
           }
          ],
          "barpolar": [
           {
            "marker": {
             "line": {
              "color": "rgb(17,17,17)",
              "width": 0.5
             },
             "pattern": {
              "fillmode": "overlay",
              "size": 10,
              "solidity": 0.2
             }
            },
            "type": "barpolar"
           }
          ],
          "pie": [
           {
            "automargin": true,
            "type": "pie"
           }
          ]
         },
         "layout": {
          "autotypenumbers": "strict",
          "colorway": [
           "#636efa",
           "#EF553B",
           "#00cc96",
           "#ab63fa",
           "#FFA15A",
           "#19d3f3",
           "#FF6692",
           "#B6E880",
           "#FF97FF",
           "#FECB52"
          ],
          "font": {
           "color": "#f2f5fa"
          },
          "hovermode": "closest",
          "hoverlabel": {
           "align": "left"
          },
          "paper_bgcolor": "rgb(17,17,17)",
          "plot_bgcolor": "rgb(17,17,17)",
          "polar": {
           "bgcolor": "rgb(17,17,17)",
           "angularaxis": {
            "gridcolor": "#506784",
            "linecolor": "#506784",
            "ticks": ""
           },
           "radialaxis": {
            "gridcolor": "#506784",
            "linecolor": "#506784",
            "ticks": ""
           }
          },
          "ternary": {
           "bgcolor": "rgb(17,17,17)",
           "aaxis": {
            "gridcolor": "#506784",
            "linecolor": "#506784",
            "ticks": ""
           },
           "baxis": {
            "gridcolor": "#506784",
            "linecolor": "#506784",
            "ticks": ""
           },
           "caxis": {
            "gridcolor": "#506784",
            "linecolor": "#506784",
            "ticks": ""
           }
          },
          "coloraxis": {
           "colorbar": {
            "outlinewidth": 0,
            "ticks": ""
           }
          },
          "colorscale": {
           "sequential": [
            [
             0.0,
             "#0d0887"
            ],
            [
             0.1111111111111111,
             "#46039f"
            ],
            [
             0.2222222222222222,
             "#7201a8"
            ],
            [
             0.3333333333333333,
             "#9c179e"
            ],
            [
             0.4444444444444444,
             "#bd3786"
            ],
            [
             0.5555555555555556,
             "#d8576b"
            ],
            [
             0.6666666666666666,
             "#ed7953"
            ],
            [
             0.7777777777777778,
             "#fb9f3a"
            ],
            [
             0.8888888888888888,
             "#fdca26"
            ],
            [
             1.0,
             "#f0f921"
            ]
           ],
           "sequentialminus": [
            [
             0.0,
             "#0d0887"
            ],
            [
             0.1111111111111111,
             "#46039f"
            ],
            [
             0.2222222222222222,
             "#7201a8"
            ],
            [
             0.3333333333333333,
             "#9c179e"
            ],
            [
             0.4444444444444444,
             "#bd3786"
            ],
            [
             0.5555555555555556,
             "#d8576b"
            ],
            [
             0.6666666666666666,
             "#ed7953"
            ],
            [
             0.7777777777777778,
             "#fb9f3a"
            ],
            [
             0.8888888888888888,
             "#fdca26"
            ],
            [
             1.0,
             "#f0f921"
            ]
           ],
           "diverging": [
            [
             0,
             "#8e0152"
            ],
            [
             0.1,
             "#c51b7d"
            ],
            [
             0.2,
             "#de77ae"
            ],
            [
             0.3,
             "#f1b6da"
            ],
            [
             0.4,
             "#fde0ef"
            ],
            [
             0.5,
             "#f7f7f7"
            ],
            [
             0.6,
             "#e6f5d0"
            ],
            [
             0.7,
             "#b8e186"
            ],
            [
             0.8,
             "#7fbc41"
            ],
            [
             0.9,
             "#4d9221"
            ],
            [
             1,
             "#276419"
            ]
           ]
          },
          "xaxis": {
           "gridcolor": "#283442",
           "linecolor": "#506784",
           "ticks": "",
           "title": {
            "standoff": 15
           },
           "zerolinecolor": "#283442",
           "automargin": true,
           "zerolinewidth": 2
          },
          "yaxis": {
           "gridcolor": "#283442",
           "linecolor": "#506784",
           "ticks": "",
           "title": {
            "standoff": 15
           },
           "zerolinecolor": "#283442",
           "automargin": true,
           "zerolinewidth": 2
          },
          "scene": {
           "xaxis": {
            "backgroundcolor": "rgb(17,17,17)",
            "gridcolor": "#506784",
            "linecolor": "#506784",
            "showbackground": true,
            "ticks": "",
            "zerolinecolor": "#C8D4E3",
            "gridwidth": 2
           },
           "yaxis": {
            "backgroundcolor": "rgb(17,17,17)",
            "gridcolor": "#506784",
            "linecolor": "#506784",
            "showbackground": true,
            "ticks": "",
            "zerolinecolor": "#C8D4E3",
            "gridwidth": 2
           },
           "zaxis": {
            "backgroundcolor": "rgb(17,17,17)",
            "gridcolor": "#506784",
            "linecolor": "#506784",
            "showbackground": true,
            "ticks": "",
            "zerolinecolor": "#C8D4E3",
            "gridwidth": 2
           }
          },
          "shapedefaults": {
           "line": {
            "color": "#f2f5fa"
           }
          },
          "annotationdefaults": {
           "arrowcolor": "#f2f5fa",
           "arrowhead": 0,
           "arrowwidth": 1
          },
          "geo": {
           "bgcolor": "rgb(17,17,17)",
           "landcolor": "rgb(17,17,17)",
           "subunitcolor": "#506784",
           "showland": true,
           "showlakes": true,
           "lakecolor": "rgb(17,17,17)"
          },
          "title": {
           "x": 0.05
          },
          "updatemenudefaults": {
           "bgcolor": "#506784",
           "borderwidth": 0
          },
          "sliderdefaults": {
           "bgcolor": "#C8D4E3",
           "borderwidth": 1,
           "bordercolor": "rgb(17,17,17)",
           "tickwidth": 0
          },
          "mapbox": {
           "style": "dark"
          }
         }
        },
        "title": {
         "text": "Kmeans Cluster",
         "xanchor": "center",
         "yanchor": "top",
         "x": 0.5
        },
        "yaxis": {
         "title": {
          "text": "Y-Axis"
         },
         "ticklen": 5,
         "tickwidth": 1,
         "tickcolor": "black",
         "ticks": "outside"
        },
        "xaxis": {
         "title": {
          "text": "X-Axis",
          "standoff": 2
         },
         "ticklen": 5,
         "tickwidth": 1,
         "tickcolor": "black",
         "ticks": "outside"
        },
        "annotations": [
         {
          "align": "center",
          "showarrow": false,
          "text": "",
          "x": 0.5,
          "xref": "paper",
          "y": -0.2,
          "yref": "paper"
         }
        ]
       },
       "config": {
        "plotlyServerURL": "https://plot.ly"
       }
      },
      "text/html": [
       "<div>                            <div id=\"a833d225-9261-402a-858d-c37e334d1388\" class=\"plotly-graph-div\" style=\"height:525px; width:100%;\"></div>            <script type=\"text/javascript\">                require([\"plotly\"], function(Plotly) {                    window.PLOTLYENV=window.PLOTLYENV || {};                                    if (document.getElementById(\"a833d225-9261-402a-858d-c37e334d1388\")) {                    Plotly.newPlot(                        \"a833d225-9261-402a-858d-c37e334d1388\",                        [{\"hovertemplate\":\"%{text} \\u003cextra\\u003e\\u003c\\u002fextra\\u003e\",\"marker\":{\"color\":\"black\",\"size\":12,\"symbol\":\"x\"},\"mode\":\"markers\",\"name\":\"Centroids\",\"text\":[\"Center of Cluster 0\",\"Center of Cluster 1\",\"Center of Cluster 2\"],\"x\":[3.0356675343463837,-1.5350478961805565,-3.235286800649475],\"y\":[-0.23091961296956065,1.8009774712695432,-1.4381037937459475],\"type\":\"scatter\"},{\"hovertemplate\":\"%{text} \\u003cextra\\u003e\\u003c\\u002fextra\\u003e\",\"marker\":{\"color\":\"rgb(216.75, 0.0, 0.0)\",\"size\":8},\"mode\":\"markers\",\"name\":\"Cluster 0\",\"text\":[\"Participant: 0\",\"Participant: 3\",\"Participant: 5\",\"Participant: 6\",\"Participant: 8\",\"Participant: 10\",\"Participant: 15\",\"Participant: 16\",\"Participant: 17\",\"Participant: 18\",\"Participant: 20\",\"Participant: 21\",\"Participant: 27\",\"Participant: 29\",\"Participant: 34\",\"Participant: 35\",\"Participant: 36\",\"Participant: 39\",\"Participant: 44\",\"Participant: 46\",\"Participant: 47\",\"Participant: 48\"],\"x\":[4.189240994376471,2.31206534053825,3.156362511950258,0.7954597397283012,1.8317867683462787,2.7936003924168444,5.284335949132742,3.6569295084490676,1.8718528802015737,4.586344056577254,1.6504662495109534,3.640273234358083,4.068186739223338,2.440840670734469,1.946995394445901,3.136006068411027,4.067867036935964,0.8639187777387548,2.4960626848134018,1.7088239390687192,4.1653011390249395,6.121965679637846],\"y\":[1.0940314718395445,-0.5025638674601793,-5.587981657219812,0.00039865753902194537,-0.33502967802830086,1.8238350499366278,-0.826874578103304,3.2448116336781636,0.8060060942599977,1.085455521867581,1.3784289571579271,0.8002075610428332,1.4523614202136228,-0.7927590125359237,-1.7293748478167301,-3.107857185100112,-4.873091997551397,0.6265816918173026,0.32959058028298305,-1.1401459436444767,1.5775210522426821,-0.40378240974838686],\"type\":\"scatter\"},{\"hovertemplate\":\"%{text} \\u003cextra\\u003e\\u003c\\u002fextra\\u003e\",\"marker\":{\"color\":\"rgb(0.0, 216.75, 0.0)\",\"size\":8},\"mode\":\"markers\",\"name\":\"Cluster 1\",\"text\":[\"Participant: 1\",\"Participant: 2\",\"Participant: 4\",\"Participant: 9\",\"Participant: 11\",\"Participant: 12\",\"Participant: 14\",\"Participant: 19\",\"Participant: 22\",\"Participant: 23\",\"Participant: 30\",\"Participant: 37\",\"Participant: 38\",\"Participant: 43\"],\"x\":[-3.151443663720011,-0.9022248715287069,-2.4318611572409194,0.006101026572468264,-0.9478487030421123,-2.172055982272912,-2.35848218834252,-2.386134627578937,0.26705497339675294,-3.9248811386377067,-0.20308416843814417,-0.4998096375408728,-1.4994352672960214,-1.2865651408581482],\"y\":[3.4149745252738137,1.9954834932186647,2.074865055960789,1.4650710471992043,-0.0740810851173339,3.0668013797521656,3.3945048475592445,2.47901725974132,1.0096303671158342,2.1306490587157723,-0.15815535707086636,1.9978481011970841,0.10161497959290007,2.3154609246350124],\"type\":\"scatter\"},{\"hovertemplate\":\"%{text} \\u003cextra\\u003e\\u003c\\u002fextra\\u003e\",\"marker\":{\"color\":\"rgb(0.0, 0.0, 216.75)\",\"size\":8},\"mode\":\"markers\",\"name\":\"Cluster 2\",\"text\":[\"Participant: 7\",\"Participant: 13\",\"Participant: 24\",\"Participant: 25\",\"Participant: 26\",\"Participant: 28\",\"Participant: 31\",\"Participant: 32\",\"Participant: 33\",\"Participant: 40\",\"Participant: 41\",\"Participant: 42\",\"Participant: 45\",\"Participant: 49\"],\"x\":[-3.657632171566988,-3.1149703730337484,-3.7878517963154237,-2.5067395304624407,-5.831146834903976,-2.466491544570422,-3.82154407864275,-3.68961385441438,-2.899317238227246,-3.676980895309729,-2.2615463263155817,-2.442247861453028,-2.0597891116294265,-3.0781435922475073],\"y\":[-0.13083126278331117,-0.3558700725290462,-1.5636358579034155,-0.5238165364553194,-0.9653328941999945,-2.6884343934534205,-3.6624254563336214,-3.8549006758598328,-0.09027021816968066,0.10321551313190924,-0.2446316513761178,-2.023264285851604,-1.0682660817492484,-3.0649892389105635],\"type\":\"scatter\"}],                        {\"template\":{\"data\":{\"histogram2dcontour\":[{\"type\":\"histogram2dcontour\",\"colorbar\":{\"outlinewidth\":0,\"ticks\":\"\"},\"colorscale\":[[0.0,\"#0d0887\"],[0.1111111111111111,\"#46039f\"],[0.2222222222222222,\"#7201a8\"],[0.3333333333333333,\"#9c179e\"],[0.4444444444444444,\"#bd3786\"],[0.5555555555555556,\"#d8576b\"],[0.6666666666666666,\"#ed7953\"],[0.7777777777777778,\"#fb9f3a\"],[0.8888888888888888,\"#fdca26\"],[1.0,\"#f0f921\"]]}],\"choropleth\":[{\"type\":\"choropleth\",\"colorbar\":{\"outlinewidth\":0,\"ticks\":\"\"}}],\"histogram2d\":[{\"type\":\"histogram2d\",\"colorbar\":{\"outlinewidth\":0,\"ticks\":\"\"},\"colorscale\":[[0.0,\"#0d0887\"],[0.1111111111111111,\"#46039f\"],[0.2222222222222222,\"#7201a8\"],[0.3333333333333333,\"#9c179e\"],[0.4444444444444444,\"#bd3786\"],[0.5555555555555556,\"#d8576b\"],[0.6666666666666666,\"#ed7953\"],[0.7777777777777778,\"#fb9f3a\"],[0.8888888888888888,\"#fdca26\"],[1.0,\"#f0f921\"]]}],\"heatmap\":[{\"type\":\"heatmap\",\"colorbar\":{\"outlinewidth\":0,\"ticks\":\"\"},\"colorscale\":[[0.0,\"#0d0887\"],[0.1111111111111111,\"#46039f\"],[0.2222222222222222,\"#7201a8\"],[0.3333333333333333,\"#9c179e\"],[0.4444444444444444,\"#bd3786\"],[0.5555555555555556,\"#d8576b\"],[0.6666666666666666,\"#ed7953\"],[0.7777777777777778,\"#fb9f3a\"],[0.8888888888888888,\"#fdca26\"],[1.0,\"#f0f921\"]]}],\"heatmapgl\":[{\"type\":\"heatmapgl\",\"colorbar\":{\"outlinewidth\":0,\"ticks\":\"\"},\"colorscale\":[[0.0,\"#0d0887\"],[0.1111111111111111,\"#46039f\"],[0.2222222222222222,\"#7201a8\"],[0.3333333333333333,\"#9c179e\"],[0.4444444444444444,\"#bd3786\"],[0.5555555555555556,\"#d8576b\"],[0.6666666666666666,\"#ed7953\"],[0.7777777777777778,\"#fb9f3a\"],[0.8888888888888888,\"#fdca26\"],[1.0,\"#f0f921\"]]}],\"contourcarpet\":[{\"type\":\"contourcarpet\",\"colorbar\":{\"outlinewidth\":0,\"ticks\":\"\"}}],\"contour\":[{\"type\":\"contour\",\"colorbar\":{\"outlinewidth\":0,\"ticks\":\"\"},\"colorscale\":[[0.0,\"#0d0887\"],[0.1111111111111111,\"#46039f\"],[0.2222222222222222,\"#7201a8\"],[0.3333333333333333,\"#9c179e\"],[0.4444444444444444,\"#bd3786\"],[0.5555555555555556,\"#d8576b\"],[0.6666666666666666,\"#ed7953\"],[0.7777777777777778,\"#fb9f3a\"],[0.8888888888888888,\"#fdca26\"],[1.0,\"#f0f921\"]]}],\"surface\":[{\"type\":\"surface\",\"colorbar\":{\"outlinewidth\":0,\"ticks\":\"\"},\"colorscale\":[[0.0,\"#0d0887\"],[0.1111111111111111,\"#46039f\"],[0.2222222222222222,\"#7201a8\"],[0.3333333333333333,\"#9c179e\"],[0.4444444444444444,\"#bd3786\"],[0.5555555555555556,\"#d8576b\"],[0.6666666666666666,\"#ed7953\"],[0.7777777777777778,\"#fb9f3a\"],[0.8888888888888888,\"#fdca26\"],[1.0,\"#f0f921\"]]}],\"mesh3d\":[{\"type\":\"mesh3d\",\"colorbar\":{\"outlinewidth\":0,\"ticks\":\"\"}}],\"scatter\":[{\"marker\":{\"line\":{\"color\":\"#283442\"}},\"type\":\"scatter\"}],\"parcoords\":[{\"type\":\"parcoords\",\"line\":{\"colorbar\":{\"outlinewidth\":0,\"ticks\":\"\"}}}],\"scatterpolargl\":[{\"type\":\"scatterpolargl\",\"marker\":{\"colorbar\":{\"outlinewidth\":0,\"ticks\":\"\"}}}],\"bar\":[{\"error_x\":{\"color\":\"#f2f5fa\"},\"error_y\":{\"color\":\"#f2f5fa\"},\"marker\":{\"line\":{\"color\":\"rgb(17,17,17)\",\"width\":0.5},\"pattern\":{\"fillmode\":\"overlay\",\"size\":10,\"solidity\":0.2}},\"type\":\"bar\"}],\"scattergeo\":[{\"type\":\"scattergeo\",\"marker\":{\"colorbar\":{\"outlinewidth\":0,\"ticks\":\"\"}}}],\"scatterpolar\":[{\"type\":\"scatterpolar\",\"marker\":{\"colorbar\":{\"outlinewidth\":0,\"ticks\":\"\"}}}],\"histogram\":[{\"marker\":{\"pattern\":{\"fillmode\":\"overlay\",\"size\":10,\"solidity\":0.2}},\"type\":\"histogram\"}],\"scattergl\":[{\"marker\":{\"line\":{\"color\":\"#283442\"}},\"type\":\"scattergl\"}],\"scatter3d\":[{\"type\":\"scatter3d\",\"line\":{\"colorbar\":{\"outlinewidth\":0,\"ticks\":\"\"}},\"marker\":{\"colorbar\":{\"outlinewidth\":0,\"ticks\":\"\"}}}],\"scattermapbox\":[{\"type\":\"scattermapbox\",\"marker\":{\"colorbar\":{\"outlinewidth\":0,\"ticks\":\"\"}}}],\"scatterternary\":[{\"type\":\"scatterternary\",\"marker\":{\"colorbar\":{\"outlinewidth\":0,\"ticks\":\"\"}}}],\"scattercarpet\":[{\"type\":\"scattercarpet\",\"marker\":{\"colorbar\":{\"outlinewidth\":0,\"ticks\":\"\"}}}],\"carpet\":[{\"aaxis\":{\"endlinecolor\":\"#A2B1C6\",\"gridcolor\":\"#506784\",\"linecolor\":\"#506784\",\"minorgridcolor\":\"#506784\",\"startlinecolor\":\"#A2B1C6\"},\"baxis\":{\"endlinecolor\":\"#A2B1C6\",\"gridcolor\":\"#506784\",\"linecolor\":\"#506784\",\"minorgridcolor\":\"#506784\",\"startlinecolor\":\"#A2B1C6\"},\"type\":\"carpet\"}],\"table\":[{\"cells\":{\"fill\":{\"color\":\"#506784\"},\"line\":{\"color\":\"rgb(17,17,17)\"}},\"header\":{\"fill\":{\"color\":\"#2a3f5f\"},\"line\":{\"color\":\"rgb(17,17,17)\"}},\"type\":\"table\"}],\"barpolar\":[{\"marker\":{\"line\":{\"color\":\"rgb(17,17,17)\",\"width\":0.5},\"pattern\":{\"fillmode\":\"overlay\",\"size\":10,\"solidity\":0.2}},\"type\":\"barpolar\"}],\"pie\":[{\"automargin\":true,\"type\":\"pie\"}]},\"layout\":{\"autotypenumbers\":\"strict\",\"colorway\":[\"#636efa\",\"#EF553B\",\"#00cc96\",\"#ab63fa\",\"#FFA15A\",\"#19d3f3\",\"#FF6692\",\"#B6E880\",\"#FF97FF\",\"#FECB52\"],\"font\":{\"color\":\"#f2f5fa\"},\"hovermode\":\"closest\",\"hoverlabel\":{\"align\":\"left\"},\"paper_bgcolor\":\"rgb(17,17,17)\",\"plot_bgcolor\":\"rgb(17,17,17)\",\"polar\":{\"bgcolor\":\"rgb(17,17,17)\",\"angularaxis\":{\"gridcolor\":\"#506784\",\"linecolor\":\"#506784\",\"ticks\":\"\"},\"radialaxis\":{\"gridcolor\":\"#506784\",\"linecolor\":\"#506784\",\"ticks\":\"\"}},\"ternary\":{\"bgcolor\":\"rgb(17,17,17)\",\"aaxis\":{\"gridcolor\":\"#506784\",\"linecolor\":\"#506784\",\"ticks\":\"\"},\"baxis\":{\"gridcolor\":\"#506784\",\"linecolor\":\"#506784\",\"ticks\":\"\"},\"caxis\":{\"gridcolor\":\"#506784\",\"linecolor\":\"#506784\",\"ticks\":\"\"}},\"coloraxis\":{\"colorbar\":{\"outlinewidth\":0,\"ticks\":\"\"}},\"colorscale\":{\"sequential\":[[0.0,\"#0d0887\"],[0.1111111111111111,\"#46039f\"],[0.2222222222222222,\"#7201a8\"],[0.3333333333333333,\"#9c179e\"],[0.4444444444444444,\"#bd3786\"],[0.5555555555555556,\"#d8576b\"],[0.6666666666666666,\"#ed7953\"],[0.7777777777777778,\"#fb9f3a\"],[0.8888888888888888,\"#fdca26\"],[1.0,\"#f0f921\"]],\"sequentialminus\":[[0.0,\"#0d0887\"],[0.1111111111111111,\"#46039f\"],[0.2222222222222222,\"#7201a8\"],[0.3333333333333333,\"#9c179e\"],[0.4444444444444444,\"#bd3786\"],[0.5555555555555556,\"#d8576b\"],[0.6666666666666666,\"#ed7953\"],[0.7777777777777778,\"#fb9f3a\"],[0.8888888888888888,\"#fdca26\"],[1.0,\"#f0f921\"]],\"diverging\":[[0,\"#8e0152\"],[0.1,\"#c51b7d\"],[0.2,\"#de77ae\"],[0.3,\"#f1b6da\"],[0.4,\"#fde0ef\"],[0.5,\"#f7f7f7\"],[0.6,\"#e6f5d0\"],[0.7,\"#b8e186\"],[0.8,\"#7fbc41\"],[0.9,\"#4d9221\"],[1,\"#276419\"]]},\"xaxis\":{\"gridcolor\":\"#283442\",\"linecolor\":\"#506784\",\"ticks\":\"\",\"title\":{\"standoff\":15},\"zerolinecolor\":\"#283442\",\"automargin\":true,\"zerolinewidth\":2},\"yaxis\":{\"gridcolor\":\"#283442\",\"linecolor\":\"#506784\",\"ticks\":\"\",\"title\":{\"standoff\":15},\"zerolinecolor\":\"#283442\",\"automargin\":true,\"zerolinewidth\":2},\"scene\":{\"xaxis\":{\"backgroundcolor\":\"rgb(17,17,17)\",\"gridcolor\":\"#506784\",\"linecolor\":\"#506784\",\"showbackground\":true,\"ticks\":\"\",\"zerolinecolor\":\"#C8D4E3\",\"gridwidth\":2},\"yaxis\":{\"backgroundcolor\":\"rgb(17,17,17)\",\"gridcolor\":\"#506784\",\"linecolor\":\"#506784\",\"showbackground\":true,\"ticks\":\"\",\"zerolinecolor\":\"#C8D4E3\",\"gridwidth\":2},\"zaxis\":{\"backgroundcolor\":\"rgb(17,17,17)\",\"gridcolor\":\"#506784\",\"linecolor\":\"#506784\",\"showbackground\":true,\"ticks\":\"\",\"zerolinecolor\":\"#C8D4E3\",\"gridwidth\":2}},\"shapedefaults\":{\"line\":{\"color\":\"#f2f5fa\"}},\"annotationdefaults\":{\"arrowcolor\":\"#f2f5fa\",\"arrowhead\":0,\"arrowwidth\":1},\"geo\":{\"bgcolor\":\"rgb(17,17,17)\",\"landcolor\":\"rgb(17,17,17)\",\"subunitcolor\":\"#506784\",\"showland\":true,\"showlakes\":true,\"lakecolor\":\"rgb(17,17,17)\"},\"title\":{\"x\":0.05},\"updatemenudefaults\":{\"bgcolor\":\"#506784\",\"borderwidth\":0},\"sliderdefaults\":{\"bgcolor\":\"#C8D4E3\",\"borderwidth\":1,\"bordercolor\":\"rgb(17,17,17)\",\"tickwidth\":0},\"mapbox\":{\"style\":\"dark\"}}},\"title\":{\"text\":\"Kmeans Cluster\",\"xanchor\":\"center\",\"yanchor\":\"top\",\"x\":0.5},\"yaxis\":{\"title\":{\"text\":\"Y-Axis\"},\"ticklen\":5,\"tickwidth\":1,\"tickcolor\":\"black\",\"ticks\":\"outside\"},\"xaxis\":{\"title\":{\"text\":\"X-Axis\",\"standoff\":2},\"ticklen\":5,\"tickwidth\":1,\"tickcolor\":\"black\",\"ticks\":\"outside\"},\"annotations\":[{\"align\":\"center\",\"showarrow\":false,\"text\":\"\",\"x\":0.5,\"xref\":\"paper\",\"y\":-0.2,\"yref\":\"paper\"}]},                        {\"responsive\": true}                    ).then(function(){\n",
       "                            \n",
       "var gd = document.getElementById('a833d225-9261-402a-858d-c37e334d1388');\n",
       "var x = new MutationObserver(function (mutations, observer) {{\n",
       "        var display = window.getComputedStyle(gd).display;\n",
       "        if (!display || display === 'none') {{\n",
       "            console.log([gd, 'removed!']);\n",
       "            Plotly.purge(gd);\n",
       "            observer.disconnect();\n",
       "        }}\n",
       "}});\n",
       "\n",
       "// Listen for the removal of the full notebook cells\n",
       "var notebookContainer = gd.closest('#notebook-container');\n",
       "if (notebookContainer) {{\n",
       "    x.observe(notebookContainer, {childList: true});\n",
       "}}\n",
       "\n",
       "// Listen for the clearing of the current output cell\n",
       "var outputEl = gd.closest('.output');\n",
       "if (outputEl) {{\n",
       "    x.observe(outputEl, {childList: true});\n",
       "}}\n",
       "\n",
       "                        })                };                });            </script>        </div>"
      ]
     },
     "metadata": {},
     "output_type": "display_data"
    }
   ],
   "execution_count": 85
  },
  {
   "metadata": {
    "ExecuteTime": {
     "end_time": "2025-02-03T17:53:53.244952Z",
     "start_time": "2025-02-03T17:53:53.223958Z"
    }
   },
   "cell_type": "code",
   "source": [
    "analyzer.calculate_pca(3)\n",
    "visualizer.cluster_as_scatter()"
   ],
   "id": "60130f4fe3c4e8b1",
   "outputs": [
    {
     "data": {
      "application/vnd.plotly.v1+json": {
       "data": [
        {
         "hovertemplate": "%{text} <extra></extra>",
         "marker": {
          "color": "black",
          "size": 4,
          "symbol": "x"
         },
         "mode": "markers",
         "name": "Centroids",
         "text": [
          "Center of Cluster 0",
          "Center of Cluster 1",
          "Center of Cluster 2"
         ],
         "x": [
          3.0356675343463837,
          -1.5350478961805565,
          -3.235286800649475
         ],
         "y": [
          -0.23091961296956065,
          1.8009774712695432,
          -1.4381037937459475
         ],
         "z": [
          -0.007475682719538099,
          -0.30050449397201723,
          0.31225199538843423
         ],
         "type": "scatter3d"
        },
        {
         "hovertemplate": "%{text} <extra></extra>",
         "marker": {
          "color": "rgb(216.75, 0.0, 0.0)",
          "size": 4
         },
         "mode": "markers",
         "name": "Cluster 0",
         "text": [
          "Participant: 0",
          "Participant: 3",
          "Participant: 5",
          "Participant: 6",
          "Participant: 8",
          "Participant: 10",
          "Participant: 15",
          "Participant: 16",
          "Participant: 17",
          "Participant: 18",
          "Participant: 20",
          "Participant: 21",
          "Participant: 27",
          "Participant: 29",
          "Participant: 34",
          "Participant: 35",
          "Participant: 36",
          "Participant: 39",
          "Participant: 44",
          "Participant: 46",
          "Participant: 47",
          "Participant: 48"
         ],
         "x": [
          4.189240994376471,
          2.31206534053825,
          3.156362511950258,
          0.7954597397283012,
          1.8317867683462787,
          2.7936003924168444,
          5.284335949132742,
          3.6569295084490676,
          1.8718528802015737,
          4.586344056577254,
          1.6504662495109534,
          3.640273234358083,
          4.068186739223338,
          2.440840670734469,
          1.946995394445901,
          3.136006068411027,
          4.067867036935964,
          0.8639187777387548,
          2.4960626848134018,
          1.7088239390687192,
          4.1653011390249395,
          6.121965679637846
         ],
         "y": [
          1.0940314718395445,
          -0.5025638674601793,
          -5.587981657219812,
          3.9865753902194537E-4,
          -0.33502967802830086,
          1.8238350499366278,
          -0.826874578103304,
          3.2448116336781636,
          0.8060060942599977,
          1.085455521867581,
          1.3784289571579271,
          0.8002075610428332,
          1.4523614202136228,
          -0.7927590125359237,
          -1.7293748478167301,
          -3.107857185100112,
          -4.873091997551397,
          0.6265816918173026,
          0.32959058028298305,
          -1.1401459436444767,
          1.5775210522426821,
          -0.40378240974838686
         ],
         "z": [
          -1.4518012350231826,
          -2.607428092447173,
          -1.3163191835194252,
          1.6704392645529742,
          0.4316985196540109,
          2.135939346671532,
          2.997035706729246,
          0.5977992500406466,
          -1.5738287649229463,
          -1.1101724748900885,
          1.7725163337750867,
          2.384149485960906,
          1.068577505435506,
          -1.8866977696907792,
          -3.692942188455624,
          -2.3091765929382424,
          0.19710997951980685,
          0.7499495360966877,
          -0.991761024517812,
          1.640773865357529,
          0.42493497183025986,
          0.704738540951243
         ],
         "type": "scatter3d"
        },
        {
         "hovertemplate": "%{text} <extra></extra>",
         "marker": {
          "color": "rgb(0.0, 216.75, 0.0)",
          "size": 4
         },
         "mode": "markers",
         "name": "Cluster 1",
         "text": [
          "Participant: 1",
          "Participant: 2",
          "Participant: 4",
          "Participant: 9",
          "Participant: 11",
          "Participant: 12",
          "Participant: 14",
          "Participant: 19",
          "Participant: 22",
          "Participant: 23",
          "Participant: 30",
          "Participant: 37",
          "Participant: 38",
          "Participant: 43"
         ],
         "x": [
          -3.151443663720011,
          -0.9022248715287069,
          -2.4318611572409194,
          0.006101026572468264,
          -0.9478487030421123,
          -2.172055982272912,
          -2.35848218834252,
          -2.386134627578937,
          0.26705497339675294,
          -3.9248811386377067,
          -0.20308416843814417,
          -0.4998096375408728,
          -1.4994352672960214,
          -1.2865651408581482
         ],
         "y": [
          3.4149745252738137,
          1.9954834932186647,
          2.074865055960789,
          1.4650710471992043,
          -0.0740810851173339,
          3.0668013797521656,
          3.3945048475592445,
          2.47901725974132,
          1.0096303671158342,
          2.1306490587157723,
          -0.15815535707086636,
          1.9978481011970841,
          0.10161497959290007,
          2.3154609246350124
         ],
         "z": [
          0.9910181257965298,
          -2.1139107049773287,
          2.051839709522645,
          0.7596725017060396,
          -0.23436616827120657,
          -1.88719491413648,
          -0.42818628166789263,
          -2.0495727114551188,
          -2.5616267056970874,
          0.6133104419410326,
          0.8246236090804231,
          -0.21329764562942116,
          -0.4231091598020983,
          0.4637369879817228
         ],
         "type": "scatter3d"
        },
        {
         "hovertemplate": "%{text} <extra></extra>",
         "marker": {
          "color": "rgb(0.0, 0.0, 216.75)",
          "size": 4
         },
         "mode": "markers",
         "name": "Cluster 2",
         "text": [
          "Participant: 7",
          "Participant: 13",
          "Participant: 24",
          "Participant: 25",
          "Participant: 26",
          "Participant: 28",
          "Participant: 31",
          "Participant: 32",
          "Participant: 33",
          "Participant: 40",
          "Participant: 41",
          "Participant: 42",
          "Participant: 45",
          "Participant: 49"
         ],
         "x": [
          -3.657632171566988,
          -3.1149703730337484,
          -3.7878517963154237,
          -2.5067395304624407,
          -5.831146834903976,
          -2.466491544570422,
          -3.82154407864275,
          -3.68961385441438,
          -2.899317238227246,
          -3.676980895309729,
          -2.2615463263155817,
          -2.442247861453028,
          -2.0597891116294265,
          -3.0781435922475073
         ],
         "y": [
          -0.13083126278331117,
          -0.3558700725290462,
          -1.5636358579034155,
          -0.5238165364553194,
          -0.9653328941999945,
          -2.6884343934534205,
          -3.6624254563336214,
          -3.8549006758598328,
          -0.09027021816968066,
          0.10321551313190924,
          -0.2446316513761178,
          -2.023264285851604,
          -1.0682660817492484,
          -3.0649892389105635
         ],
         "z": [
          -0.21652687674769436,
          -0.40215567480112296,
          1.938046997872061,
          2.999230807938866,
          -2.2139829944444016,
          -0.5571406656701341,
          0.23272121083965197,
          3.599177575537477,
          -2.406424164407083,
          -0.7524041178506937,
          0.4065152202042396,
          2.508301476860584,
          0.1564965915948971,
          -0.9203274514885676
         ],
         "type": "scatter3d"
        }
       ],
       "layout": {
        "template": {
         "data": {
          "histogram2dcontour": [
           {
            "type": "histogram2dcontour",
            "colorbar": {
             "outlinewidth": 0,
             "ticks": ""
            },
            "colorscale": [
             [
              0.0,
              "#0d0887"
             ],
             [
              0.1111111111111111,
              "#46039f"
             ],
             [
              0.2222222222222222,
              "#7201a8"
             ],
             [
              0.3333333333333333,
              "#9c179e"
             ],
             [
              0.4444444444444444,
              "#bd3786"
             ],
             [
              0.5555555555555556,
              "#d8576b"
             ],
             [
              0.6666666666666666,
              "#ed7953"
             ],
             [
              0.7777777777777778,
              "#fb9f3a"
             ],
             [
              0.8888888888888888,
              "#fdca26"
             ],
             [
              1.0,
              "#f0f921"
             ]
            ]
           }
          ],
          "choropleth": [
           {
            "type": "choropleth",
            "colorbar": {
             "outlinewidth": 0,
             "ticks": ""
            }
           }
          ],
          "histogram2d": [
           {
            "type": "histogram2d",
            "colorbar": {
             "outlinewidth": 0,
             "ticks": ""
            },
            "colorscale": [
             [
              0.0,
              "#0d0887"
             ],
             [
              0.1111111111111111,
              "#46039f"
             ],
             [
              0.2222222222222222,
              "#7201a8"
             ],
             [
              0.3333333333333333,
              "#9c179e"
             ],
             [
              0.4444444444444444,
              "#bd3786"
             ],
             [
              0.5555555555555556,
              "#d8576b"
             ],
             [
              0.6666666666666666,
              "#ed7953"
             ],
             [
              0.7777777777777778,
              "#fb9f3a"
             ],
             [
              0.8888888888888888,
              "#fdca26"
             ],
             [
              1.0,
              "#f0f921"
             ]
            ]
           }
          ],
          "heatmap": [
           {
            "type": "heatmap",
            "colorbar": {
             "outlinewidth": 0,
             "ticks": ""
            },
            "colorscale": [
             [
              0.0,
              "#0d0887"
             ],
             [
              0.1111111111111111,
              "#46039f"
             ],
             [
              0.2222222222222222,
              "#7201a8"
             ],
             [
              0.3333333333333333,
              "#9c179e"
             ],
             [
              0.4444444444444444,
              "#bd3786"
             ],
             [
              0.5555555555555556,
              "#d8576b"
             ],
             [
              0.6666666666666666,
              "#ed7953"
             ],
             [
              0.7777777777777778,
              "#fb9f3a"
             ],
             [
              0.8888888888888888,
              "#fdca26"
             ],
             [
              1.0,
              "#f0f921"
             ]
            ]
           }
          ],
          "heatmapgl": [
           {
            "type": "heatmapgl",
            "colorbar": {
             "outlinewidth": 0,
             "ticks": ""
            },
            "colorscale": [
             [
              0.0,
              "#0d0887"
             ],
             [
              0.1111111111111111,
              "#46039f"
             ],
             [
              0.2222222222222222,
              "#7201a8"
             ],
             [
              0.3333333333333333,
              "#9c179e"
             ],
             [
              0.4444444444444444,
              "#bd3786"
             ],
             [
              0.5555555555555556,
              "#d8576b"
             ],
             [
              0.6666666666666666,
              "#ed7953"
             ],
             [
              0.7777777777777778,
              "#fb9f3a"
             ],
             [
              0.8888888888888888,
              "#fdca26"
             ],
             [
              1.0,
              "#f0f921"
             ]
            ]
           }
          ],
          "contourcarpet": [
           {
            "type": "contourcarpet",
            "colorbar": {
             "outlinewidth": 0,
             "ticks": ""
            }
           }
          ],
          "contour": [
           {
            "type": "contour",
            "colorbar": {
             "outlinewidth": 0,
             "ticks": ""
            },
            "colorscale": [
             [
              0.0,
              "#0d0887"
             ],
             [
              0.1111111111111111,
              "#46039f"
             ],
             [
              0.2222222222222222,
              "#7201a8"
             ],
             [
              0.3333333333333333,
              "#9c179e"
             ],
             [
              0.4444444444444444,
              "#bd3786"
             ],
             [
              0.5555555555555556,
              "#d8576b"
             ],
             [
              0.6666666666666666,
              "#ed7953"
             ],
             [
              0.7777777777777778,
              "#fb9f3a"
             ],
             [
              0.8888888888888888,
              "#fdca26"
             ],
             [
              1.0,
              "#f0f921"
             ]
            ]
           }
          ],
          "surface": [
           {
            "type": "surface",
            "colorbar": {
             "outlinewidth": 0,
             "ticks": ""
            },
            "colorscale": [
             [
              0.0,
              "#0d0887"
             ],
             [
              0.1111111111111111,
              "#46039f"
             ],
             [
              0.2222222222222222,
              "#7201a8"
             ],
             [
              0.3333333333333333,
              "#9c179e"
             ],
             [
              0.4444444444444444,
              "#bd3786"
             ],
             [
              0.5555555555555556,
              "#d8576b"
             ],
             [
              0.6666666666666666,
              "#ed7953"
             ],
             [
              0.7777777777777778,
              "#fb9f3a"
             ],
             [
              0.8888888888888888,
              "#fdca26"
             ],
             [
              1.0,
              "#f0f921"
             ]
            ]
           }
          ],
          "mesh3d": [
           {
            "type": "mesh3d",
            "colorbar": {
             "outlinewidth": 0,
             "ticks": ""
            }
           }
          ],
          "scatter": [
           {
            "marker": {
             "line": {
              "color": "#283442"
             }
            },
            "type": "scatter"
           }
          ],
          "parcoords": [
           {
            "type": "parcoords",
            "line": {
             "colorbar": {
              "outlinewidth": 0,
              "ticks": ""
             }
            }
           }
          ],
          "scatterpolargl": [
           {
            "type": "scatterpolargl",
            "marker": {
             "colorbar": {
              "outlinewidth": 0,
              "ticks": ""
             }
            }
           }
          ],
          "bar": [
           {
            "error_x": {
             "color": "#f2f5fa"
            },
            "error_y": {
             "color": "#f2f5fa"
            },
            "marker": {
             "line": {
              "color": "rgb(17,17,17)",
              "width": 0.5
             },
             "pattern": {
              "fillmode": "overlay",
              "size": 10,
              "solidity": 0.2
             }
            },
            "type": "bar"
           }
          ],
          "scattergeo": [
           {
            "type": "scattergeo",
            "marker": {
             "colorbar": {
              "outlinewidth": 0,
              "ticks": ""
             }
            }
           }
          ],
          "scatterpolar": [
           {
            "type": "scatterpolar",
            "marker": {
             "colorbar": {
              "outlinewidth": 0,
              "ticks": ""
             }
            }
           }
          ],
          "histogram": [
           {
            "marker": {
             "pattern": {
              "fillmode": "overlay",
              "size": 10,
              "solidity": 0.2
             }
            },
            "type": "histogram"
           }
          ],
          "scattergl": [
           {
            "marker": {
             "line": {
              "color": "#283442"
             }
            },
            "type": "scattergl"
           }
          ],
          "scatter3d": [
           {
            "type": "scatter3d",
            "line": {
             "colorbar": {
              "outlinewidth": 0,
              "ticks": ""
             }
            },
            "marker": {
             "colorbar": {
              "outlinewidth": 0,
              "ticks": ""
             }
            }
           }
          ],
          "scattermapbox": [
           {
            "type": "scattermapbox",
            "marker": {
             "colorbar": {
              "outlinewidth": 0,
              "ticks": ""
             }
            }
           }
          ],
          "scatterternary": [
           {
            "type": "scatterternary",
            "marker": {
             "colorbar": {
              "outlinewidth": 0,
              "ticks": ""
             }
            }
           }
          ],
          "scattercarpet": [
           {
            "type": "scattercarpet",
            "marker": {
             "colorbar": {
              "outlinewidth": 0,
              "ticks": ""
             }
            }
           }
          ],
          "carpet": [
           {
            "aaxis": {
             "endlinecolor": "#A2B1C6",
             "gridcolor": "#506784",
             "linecolor": "#506784",
             "minorgridcolor": "#506784",
             "startlinecolor": "#A2B1C6"
            },
            "baxis": {
             "endlinecolor": "#A2B1C6",
             "gridcolor": "#506784",
             "linecolor": "#506784",
             "minorgridcolor": "#506784",
             "startlinecolor": "#A2B1C6"
            },
            "type": "carpet"
           }
          ],
          "table": [
           {
            "cells": {
             "fill": {
              "color": "#506784"
             },
             "line": {
              "color": "rgb(17,17,17)"
             }
            },
            "header": {
             "fill": {
              "color": "#2a3f5f"
             },
             "line": {
              "color": "rgb(17,17,17)"
             }
            },
            "type": "table"
           }
          ],
          "barpolar": [
           {
            "marker": {
             "line": {
              "color": "rgb(17,17,17)",
              "width": 0.5
             },
             "pattern": {
              "fillmode": "overlay",
              "size": 10,
              "solidity": 0.2
             }
            },
            "type": "barpolar"
           }
          ],
          "pie": [
           {
            "automargin": true,
            "type": "pie"
           }
          ]
         },
         "layout": {
          "autotypenumbers": "strict",
          "colorway": [
           "#636efa",
           "#EF553B",
           "#00cc96",
           "#ab63fa",
           "#FFA15A",
           "#19d3f3",
           "#FF6692",
           "#B6E880",
           "#FF97FF",
           "#FECB52"
          ],
          "font": {
           "color": "#f2f5fa"
          },
          "hovermode": "closest",
          "hoverlabel": {
           "align": "left"
          },
          "paper_bgcolor": "rgb(17,17,17)",
          "plot_bgcolor": "rgb(17,17,17)",
          "polar": {
           "bgcolor": "rgb(17,17,17)",
           "angularaxis": {
            "gridcolor": "#506784",
            "linecolor": "#506784",
            "ticks": ""
           },
           "radialaxis": {
            "gridcolor": "#506784",
            "linecolor": "#506784",
            "ticks": ""
           }
          },
          "ternary": {
           "bgcolor": "rgb(17,17,17)",
           "aaxis": {
            "gridcolor": "#506784",
            "linecolor": "#506784",
            "ticks": ""
           },
           "baxis": {
            "gridcolor": "#506784",
            "linecolor": "#506784",
            "ticks": ""
           },
           "caxis": {
            "gridcolor": "#506784",
            "linecolor": "#506784",
            "ticks": ""
           }
          },
          "coloraxis": {
           "colorbar": {
            "outlinewidth": 0,
            "ticks": ""
           }
          },
          "colorscale": {
           "sequential": [
            [
             0.0,
             "#0d0887"
            ],
            [
             0.1111111111111111,
             "#46039f"
            ],
            [
             0.2222222222222222,
             "#7201a8"
            ],
            [
             0.3333333333333333,
             "#9c179e"
            ],
            [
             0.4444444444444444,
             "#bd3786"
            ],
            [
             0.5555555555555556,
             "#d8576b"
            ],
            [
             0.6666666666666666,
             "#ed7953"
            ],
            [
             0.7777777777777778,
             "#fb9f3a"
            ],
            [
             0.8888888888888888,
             "#fdca26"
            ],
            [
             1.0,
             "#f0f921"
            ]
           ],
           "sequentialminus": [
            [
             0.0,
             "#0d0887"
            ],
            [
             0.1111111111111111,
             "#46039f"
            ],
            [
             0.2222222222222222,
             "#7201a8"
            ],
            [
             0.3333333333333333,
             "#9c179e"
            ],
            [
             0.4444444444444444,
             "#bd3786"
            ],
            [
             0.5555555555555556,
             "#d8576b"
            ],
            [
             0.6666666666666666,
             "#ed7953"
            ],
            [
             0.7777777777777778,
             "#fb9f3a"
            ],
            [
             0.8888888888888888,
             "#fdca26"
            ],
            [
             1.0,
             "#f0f921"
            ]
           ],
           "diverging": [
            [
             0,
             "#8e0152"
            ],
            [
             0.1,
             "#c51b7d"
            ],
            [
             0.2,
             "#de77ae"
            ],
            [
             0.3,
             "#f1b6da"
            ],
            [
             0.4,
             "#fde0ef"
            ],
            [
             0.5,
             "#f7f7f7"
            ],
            [
             0.6,
             "#e6f5d0"
            ],
            [
             0.7,
             "#b8e186"
            ],
            [
             0.8,
             "#7fbc41"
            ],
            [
             0.9,
             "#4d9221"
            ],
            [
             1,
             "#276419"
            ]
           ]
          },
          "xaxis": {
           "gridcolor": "#283442",
           "linecolor": "#506784",
           "ticks": "",
           "title": {
            "standoff": 15
           },
           "zerolinecolor": "#283442",
           "automargin": true,
           "zerolinewidth": 2
          },
          "yaxis": {
           "gridcolor": "#283442",
           "linecolor": "#506784",
           "ticks": "",
           "title": {
            "standoff": 15
           },
           "zerolinecolor": "#283442",
           "automargin": true,
           "zerolinewidth": 2
          },
          "scene": {
           "xaxis": {
            "backgroundcolor": "rgb(17,17,17)",
            "gridcolor": "#506784",
            "linecolor": "#506784",
            "showbackground": true,
            "ticks": "",
            "zerolinecolor": "#C8D4E3",
            "gridwidth": 2
           },
           "yaxis": {
            "backgroundcolor": "rgb(17,17,17)",
            "gridcolor": "#506784",
            "linecolor": "#506784",
            "showbackground": true,
            "ticks": "",
            "zerolinecolor": "#C8D4E3",
            "gridwidth": 2
           },
           "zaxis": {
            "backgroundcolor": "rgb(17,17,17)",
            "gridcolor": "#506784",
            "linecolor": "#506784",
            "showbackground": true,
            "ticks": "",
            "zerolinecolor": "#C8D4E3",
            "gridwidth": 2
           }
          },
          "shapedefaults": {
           "line": {
            "color": "#f2f5fa"
           }
          },
          "annotationdefaults": {
           "arrowcolor": "#f2f5fa",
           "arrowhead": 0,
           "arrowwidth": 1
          },
          "geo": {
           "bgcolor": "rgb(17,17,17)",
           "landcolor": "rgb(17,17,17)",
           "subunitcolor": "#506784",
           "showland": true,
           "showlakes": true,
           "lakecolor": "rgb(17,17,17)"
          },
          "title": {
           "x": 0.05
          },
          "updatemenudefaults": {
           "bgcolor": "#506784",
           "borderwidth": 0
          },
          "sliderdefaults": {
           "bgcolor": "#C8D4E3",
           "borderwidth": 1,
           "bordercolor": "rgb(17,17,17)",
           "tickwidth": 0
          },
          "mapbox": {
           "style": "dark"
          }
         }
        },
        "title": {
         "text": "Kmeans Cluster",
         "xanchor": "center",
         "yanchor": "top",
         "x": 0.5
        },
        "yaxis": {
         "title": {
          "text": "Y-Axis"
         },
         "ticklen": 5,
         "tickwidth": 1,
         "tickcolor": "black",
         "ticks": "outside"
        },
        "xaxis": {
         "title": {
          "text": "X-Axis",
          "standoff": 2
         },
         "ticklen": 5,
         "tickwidth": 1,
         "tickcolor": "black",
         "ticks": "outside"
        },
        "annotations": [
         {
          "align": "center",
          "showarrow": false,
          "text": "",
          "x": 0.5,
          "xref": "paper",
          "y": -0.2,
          "yref": "paper"
         }
        ]
       },
       "config": {
        "plotlyServerURL": "https://plot.ly"
       }
      },
      "text/html": [
       "<div>                            <div id=\"d8d2f6dc-3449-4609-ae09-a1fa4e41657a\" class=\"plotly-graph-div\" style=\"height:525px; width:100%;\"></div>            <script type=\"text/javascript\">                require([\"plotly\"], function(Plotly) {                    window.PLOTLYENV=window.PLOTLYENV || {};                                    if (document.getElementById(\"d8d2f6dc-3449-4609-ae09-a1fa4e41657a\")) {                    Plotly.newPlot(                        \"d8d2f6dc-3449-4609-ae09-a1fa4e41657a\",                        [{\"hovertemplate\":\"%{text} \\u003cextra\\u003e\\u003c\\u002fextra\\u003e\",\"marker\":{\"color\":\"black\",\"size\":4,\"symbol\":\"x\"},\"mode\":\"markers\",\"name\":\"Centroids\",\"text\":[\"Center of Cluster 0\",\"Center of Cluster 1\",\"Center of Cluster 2\"],\"x\":[3.0356675343463837,-1.5350478961805565,-3.235286800649475],\"y\":[-0.23091961296956065,1.8009774712695432,-1.4381037937459475],\"z\":[-0.007475682719538099,-0.30050449397201723,0.31225199538843423],\"type\":\"scatter3d\"},{\"hovertemplate\":\"%{text} \\u003cextra\\u003e\\u003c\\u002fextra\\u003e\",\"marker\":{\"color\":\"rgb(216.75, 0.0, 0.0)\",\"size\":4},\"mode\":\"markers\",\"name\":\"Cluster 0\",\"text\":[\"Participant: 0\",\"Participant: 3\",\"Participant: 5\",\"Participant: 6\",\"Participant: 8\",\"Participant: 10\",\"Participant: 15\",\"Participant: 16\",\"Participant: 17\",\"Participant: 18\",\"Participant: 20\",\"Participant: 21\",\"Participant: 27\",\"Participant: 29\",\"Participant: 34\",\"Participant: 35\",\"Participant: 36\",\"Participant: 39\",\"Participant: 44\",\"Participant: 46\",\"Participant: 47\",\"Participant: 48\"],\"x\":[4.189240994376471,2.31206534053825,3.156362511950258,0.7954597397283012,1.8317867683462787,2.7936003924168444,5.284335949132742,3.6569295084490676,1.8718528802015737,4.586344056577254,1.6504662495109534,3.640273234358083,4.068186739223338,2.440840670734469,1.946995394445901,3.136006068411027,4.067867036935964,0.8639187777387548,2.4960626848134018,1.7088239390687192,4.1653011390249395,6.121965679637846],\"y\":[1.0940314718395445,-0.5025638674601793,-5.587981657219812,0.00039865753902194537,-0.33502967802830086,1.8238350499366278,-0.826874578103304,3.2448116336781636,0.8060060942599977,1.085455521867581,1.3784289571579271,0.8002075610428332,1.4523614202136228,-0.7927590125359237,-1.7293748478167301,-3.107857185100112,-4.873091997551397,0.6265816918173026,0.32959058028298305,-1.1401459436444767,1.5775210522426821,-0.40378240974838686],\"z\":[-1.4518012350231826,-2.607428092447173,-1.3163191835194252,1.6704392645529742,0.4316985196540109,2.135939346671532,2.997035706729246,0.5977992500406466,-1.5738287649229463,-1.1101724748900885,1.7725163337750867,2.384149485960906,1.068577505435506,-1.8866977696907792,-3.692942188455624,-2.3091765929382424,0.19710997951980685,0.7499495360966877,-0.991761024517812,1.640773865357529,0.42493497183025986,0.704738540951243],\"type\":\"scatter3d\"},{\"hovertemplate\":\"%{text} \\u003cextra\\u003e\\u003c\\u002fextra\\u003e\",\"marker\":{\"color\":\"rgb(0.0, 216.75, 0.0)\",\"size\":4},\"mode\":\"markers\",\"name\":\"Cluster 1\",\"text\":[\"Participant: 1\",\"Participant: 2\",\"Participant: 4\",\"Participant: 9\",\"Participant: 11\",\"Participant: 12\",\"Participant: 14\",\"Participant: 19\",\"Participant: 22\",\"Participant: 23\",\"Participant: 30\",\"Participant: 37\",\"Participant: 38\",\"Participant: 43\"],\"x\":[-3.151443663720011,-0.9022248715287069,-2.4318611572409194,0.006101026572468264,-0.9478487030421123,-2.172055982272912,-2.35848218834252,-2.386134627578937,0.26705497339675294,-3.9248811386377067,-0.20308416843814417,-0.4998096375408728,-1.4994352672960214,-1.2865651408581482],\"y\":[3.4149745252738137,1.9954834932186647,2.074865055960789,1.4650710471992043,-0.0740810851173339,3.0668013797521656,3.3945048475592445,2.47901725974132,1.0096303671158342,2.1306490587157723,-0.15815535707086636,1.9978481011970841,0.10161497959290007,2.3154609246350124],\"z\":[0.9910181257965298,-2.1139107049773287,2.051839709522645,0.7596725017060396,-0.23436616827120657,-1.88719491413648,-0.42818628166789263,-2.0495727114551188,-2.5616267056970874,0.6133104419410326,0.8246236090804231,-0.21329764562942116,-0.4231091598020983,0.4637369879817228],\"type\":\"scatter3d\"},{\"hovertemplate\":\"%{text} \\u003cextra\\u003e\\u003c\\u002fextra\\u003e\",\"marker\":{\"color\":\"rgb(0.0, 0.0, 216.75)\",\"size\":4},\"mode\":\"markers\",\"name\":\"Cluster 2\",\"text\":[\"Participant: 7\",\"Participant: 13\",\"Participant: 24\",\"Participant: 25\",\"Participant: 26\",\"Participant: 28\",\"Participant: 31\",\"Participant: 32\",\"Participant: 33\",\"Participant: 40\",\"Participant: 41\",\"Participant: 42\",\"Participant: 45\",\"Participant: 49\"],\"x\":[-3.657632171566988,-3.1149703730337484,-3.7878517963154237,-2.5067395304624407,-5.831146834903976,-2.466491544570422,-3.82154407864275,-3.68961385441438,-2.899317238227246,-3.676980895309729,-2.2615463263155817,-2.442247861453028,-2.0597891116294265,-3.0781435922475073],\"y\":[-0.13083126278331117,-0.3558700725290462,-1.5636358579034155,-0.5238165364553194,-0.9653328941999945,-2.6884343934534205,-3.6624254563336214,-3.8549006758598328,-0.09027021816968066,0.10321551313190924,-0.2446316513761178,-2.023264285851604,-1.0682660817492484,-3.0649892389105635],\"z\":[-0.21652687674769436,-0.40215567480112296,1.938046997872061,2.999230807938866,-2.2139829944444016,-0.5571406656701341,0.23272121083965197,3.599177575537477,-2.406424164407083,-0.7524041178506937,0.4065152202042396,2.508301476860584,0.1564965915948971,-0.9203274514885676],\"type\":\"scatter3d\"}],                        {\"template\":{\"data\":{\"histogram2dcontour\":[{\"type\":\"histogram2dcontour\",\"colorbar\":{\"outlinewidth\":0,\"ticks\":\"\"},\"colorscale\":[[0.0,\"#0d0887\"],[0.1111111111111111,\"#46039f\"],[0.2222222222222222,\"#7201a8\"],[0.3333333333333333,\"#9c179e\"],[0.4444444444444444,\"#bd3786\"],[0.5555555555555556,\"#d8576b\"],[0.6666666666666666,\"#ed7953\"],[0.7777777777777778,\"#fb9f3a\"],[0.8888888888888888,\"#fdca26\"],[1.0,\"#f0f921\"]]}],\"choropleth\":[{\"type\":\"choropleth\",\"colorbar\":{\"outlinewidth\":0,\"ticks\":\"\"}}],\"histogram2d\":[{\"type\":\"histogram2d\",\"colorbar\":{\"outlinewidth\":0,\"ticks\":\"\"},\"colorscale\":[[0.0,\"#0d0887\"],[0.1111111111111111,\"#46039f\"],[0.2222222222222222,\"#7201a8\"],[0.3333333333333333,\"#9c179e\"],[0.4444444444444444,\"#bd3786\"],[0.5555555555555556,\"#d8576b\"],[0.6666666666666666,\"#ed7953\"],[0.7777777777777778,\"#fb9f3a\"],[0.8888888888888888,\"#fdca26\"],[1.0,\"#f0f921\"]]}],\"heatmap\":[{\"type\":\"heatmap\",\"colorbar\":{\"outlinewidth\":0,\"ticks\":\"\"},\"colorscale\":[[0.0,\"#0d0887\"],[0.1111111111111111,\"#46039f\"],[0.2222222222222222,\"#7201a8\"],[0.3333333333333333,\"#9c179e\"],[0.4444444444444444,\"#bd3786\"],[0.5555555555555556,\"#d8576b\"],[0.6666666666666666,\"#ed7953\"],[0.7777777777777778,\"#fb9f3a\"],[0.8888888888888888,\"#fdca26\"],[1.0,\"#f0f921\"]]}],\"heatmapgl\":[{\"type\":\"heatmapgl\",\"colorbar\":{\"outlinewidth\":0,\"ticks\":\"\"},\"colorscale\":[[0.0,\"#0d0887\"],[0.1111111111111111,\"#46039f\"],[0.2222222222222222,\"#7201a8\"],[0.3333333333333333,\"#9c179e\"],[0.4444444444444444,\"#bd3786\"],[0.5555555555555556,\"#d8576b\"],[0.6666666666666666,\"#ed7953\"],[0.7777777777777778,\"#fb9f3a\"],[0.8888888888888888,\"#fdca26\"],[1.0,\"#f0f921\"]]}],\"contourcarpet\":[{\"type\":\"contourcarpet\",\"colorbar\":{\"outlinewidth\":0,\"ticks\":\"\"}}],\"contour\":[{\"type\":\"contour\",\"colorbar\":{\"outlinewidth\":0,\"ticks\":\"\"},\"colorscale\":[[0.0,\"#0d0887\"],[0.1111111111111111,\"#46039f\"],[0.2222222222222222,\"#7201a8\"],[0.3333333333333333,\"#9c179e\"],[0.4444444444444444,\"#bd3786\"],[0.5555555555555556,\"#d8576b\"],[0.6666666666666666,\"#ed7953\"],[0.7777777777777778,\"#fb9f3a\"],[0.8888888888888888,\"#fdca26\"],[1.0,\"#f0f921\"]]}],\"surface\":[{\"type\":\"surface\",\"colorbar\":{\"outlinewidth\":0,\"ticks\":\"\"},\"colorscale\":[[0.0,\"#0d0887\"],[0.1111111111111111,\"#46039f\"],[0.2222222222222222,\"#7201a8\"],[0.3333333333333333,\"#9c179e\"],[0.4444444444444444,\"#bd3786\"],[0.5555555555555556,\"#d8576b\"],[0.6666666666666666,\"#ed7953\"],[0.7777777777777778,\"#fb9f3a\"],[0.8888888888888888,\"#fdca26\"],[1.0,\"#f0f921\"]]}],\"mesh3d\":[{\"type\":\"mesh3d\",\"colorbar\":{\"outlinewidth\":0,\"ticks\":\"\"}}],\"scatter\":[{\"marker\":{\"line\":{\"color\":\"#283442\"}},\"type\":\"scatter\"}],\"parcoords\":[{\"type\":\"parcoords\",\"line\":{\"colorbar\":{\"outlinewidth\":0,\"ticks\":\"\"}}}],\"scatterpolargl\":[{\"type\":\"scatterpolargl\",\"marker\":{\"colorbar\":{\"outlinewidth\":0,\"ticks\":\"\"}}}],\"bar\":[{\"error_x\":{\"color\":\"#f2f5fa\"},\"error_y\":{\"color\":\"#f2f5fa\"},\"marker\":{\"line\":{\"color\":\"rgb(17,17,17)\",\"width\":0.5},\"pattern\":{\"fillmode\":\"overlay\",\"size\":10,\"solidity\":0.2}},\"type\":\"bar\"}],\"scattergeo\":[{\"type\":\"scattergeo\",\"marker\":{\"colorbar\":{\"outlinewidth\":0,\"ticks\":\"\"}}}],\"scatterpolar\":[{\"type\":\"scatterpolar\",\"marker\":{\"colorbar\":{\"outlinewidth\":0,\"ticks\":\"\"}}}],\"histogram\":[{\"marker\":{\"pattern\":{\"fillmode\":\"overlay\",\"size\":10,\"solidity\":0.2}},\"type\":\"histogram\"}],\"scattergl\":[{\"marker\":{\"line\":{\"color\":\"#283442\"}},\"type\":\"scattergl\"}],\"scatter3d\":[{\"type\":\"scatter3d\",\"line\":{\"colorbar\":{\"outlinewidth\":0,\"ticks\":\"\"}},\"marker\":{\"colorbar\":{\"outlinewidth\":0,\"ticks\":\"\"}}}],\"scattermapbox\":[{\"type\":\"scattermapbox\",\"marker\":{\"colorbar\":{\"outlinewidth\":0,\"ticks\":\"\"}}}],\"scatterternary\":[{\"type\":\"scatterternary\",\"marker\":{\"colorbar\":{\"outlinewidth\":0,\"ticks\":\"\"}}}],\"scattercarpet\":[{\"type\":\"scattercarpet\",\"marker\":{\"colorbar\":{\"outlinewidth\":0,\"ticks\":\"\"}}}],\"carpet\":[{\"aaxis\":{\"endlinecolor\":\"#A2B1C6\",\"gridcolor\":\"#506784\",\"linecolor\":\"#506784\",\"minorgridcolor\":\"#506784\",\"startlinecolor\":\"#A2B1C6\"},\"baxis\":{\"endlinecolor\":\"#A2B1C6\",\"gridcolor\":\"#506784\",\"linecolor\":\"#506784\",\"minorgridcolor\":\"#506784\",\"startlinecolor\":\"#A2B1C6\"},\"type\":\"carpet\"}],\"table\":[{\"cells\":{\"fill\":{\"color\":\"#506784\"},\"line\":{\"color\":\"rgb(17,17,17)\"}},\"header\":{\"fill\":{\"color\":\"#2a3f5f\"},\"line\":{\"color\":\"rgb(17,17,17)\"}},\"type\":\"table\"}],\"barpolar\":[{\"marker\":{\"line\":{\"color\":\"rgb(17,17,17)\",\"width\":0.5},\"pattern\":{\"fillmode\":\"overlay\",\"size\":10,\"solidity\":0.2}},\"type\":\"barpolar\"}],\"pie\":[{\"automargin\":true,\"type\":\"pie\"}]},\"layout\":{\"autotypenumbers\":\"strict\",\"colorway\":[\"#636efa\",\"#EF553B\",\"#00cc96\",\"#ab63fa\",\"#FFA15A\",\"#19d3f3\",\"#FF6692\",\"#B6E880\",\"#FF97FF\",\"#FECB52\"],\"font\":{\"color\":\"#f2f5fa\"},\"hovermode\":\"closest\",\"hoverlabel\":{\"align\":\"left\"},\"paper_bgcolor\":\"rgb(17,17,17)\",\"plot_bgcolor\":\"rgb(17,17,17)\",\"polar\":{\"bgcolor\":\"rgb(17,17,17)\",\"angularaxis\":{\"gridcolor\":\"#506784\",\"linecolor\":\"#506784\",\"ticks\":\"\"},\"radialaxis\":{\"gridcolor\":\"#506784\",\"linecolor\":\"#506784\",\"ticks\":\"\"}},\"ternary\":{\"bgcolor\":\"rgb(17,17,17)\",\"aaxis\":{\"gridcolor\":\"#506784\",\"linecolor\":\"#506784\",\"ticks\":\"\"},\"baxis\":{\"gridcolor\":\"#506784\",\"linecolor\":\"#506784\",\"ticks\":\"\"},\"caxis\":{\"gridcolor\":\"#506784\",\"linecolor\":\"#506784\",\"ticks\":\"\"}},\"coloraxis\":{\"colorbar\":{\"outlinewidth\":0,\"ticks\":\"\"}},\"colorscale\":{\"sequential\":[[0.0,\"#0d0887\"],[0.1111111111111111,\"#46039f\"],[0.2222222222222222,\"#7201a8\"],[0.3333333333333333,\"#9c179e\"],[0.4444444444444444,\"#bd3786\"],[0.5555555555555556,\"#d8576b\"],[0.6666666666666666,\"#ed7953\"],[0.7777777777777778,\"#fb9f3a\"],[0.8888888888888888,\"#fdca26\"],[1.0,\"#f0f921\"]],\"sequentialminus\":[[0.0,\"#0d0887\"],[0.1111111111111111,\"#46039f\"],[0.2222222222222222,\"#7201a8\"],[0.3333333333333333,\"#9c179e\"],[0.4444444444444444,\"#bd3786\"],[0.5555555555555556,\"#d8576b\"],[0.6666666666666666,\"#ed7953\"],[0.7777777777777778,\"#fb9f3a\"],[0.8888888888888888,\"#fdca26\"],[1.0,\"#f0f921\"]],\"diverging\":[[0,\"#8e0152\"],[0.1,\"#c51b7d\"],[0.2,\"#de77ae\"],[0.3,\"#f1b6da\"],[0.4,\"#fde0ef\"],[0.5,\"#f7f7f7\"],[0.6,\"#e6f5d0\"],[0.7,\"#b8e186\"],[0.8,\"#7fbc41\"],[0.9,\"#4d9221\"],[1,\"#276419\"]]},\"xaxis\":{\"gridcolor\":\"#283442\",\"linecolor\":\"#506784\",\"ticks\":\"\",\"title\":{\"standoff\":15},\"zerolinecolor\":\"#283442\",\"automargin\":true,\"zerolinewidth\":2},\"yaxis\":{\"gridcolor\":\"#283442\",\"linecolor\":\"#506784\",\"ticks\":\"\",\"title\":{\"standoff\":15},\"zerolinecolor\":\"#283442\",\"automargin\":true,\"zerolinewidth\":2},\"scene\":{\"xaxis\":{\"backgroundcolor\":\"rgb(17,17,17)\",\"gridcolor\":\"#506784\",\"linecolor\":\"#506784\",\"showbackground\":true,\"ticks\":\"\",\"zerolinecolor\":\"#C8D4E3\",\"gridwidth\":2},\"yaxis\":{\"backgroundcolor\":\"rgb(17,17,17)\",\"gridcolor\":\"#506784\",\"linecolor\":\"#506784\",\"showbackground\":true,\"ticks\":\"\",\"zerolinecolor\":\"#C8D4E3\",\"gridwidth\":2},\"zaxis\":{\"backgroundcolor\":\"rgb(17,17,17)\",\"gridcolor\":\"#506784\",\"linecolor\":\"#506784\",\"showbackground\":true,\"ticks\":\"\",\"zerolinecolor\":\"#C8D4E3\",\"gridwidth\":2}},\"shapedefaults\":{\"line\":{\"color\":\"#f2f5fa\"}},\"annotationdefaults\":{\"arrowcolor\":\"#f2f5fa\",\"arrowhead\":0,\"arrowwidth\":1},\"geo\":{\"bgcolor\":\"rgb(17,17,17)\",\"landcolor\":\"rgb(17,17,17)\",\"subunitcolor\":\"#506784\",\"showland\":true,\"showlakes\":true,\"lakecolor\":\"rgb(17,17,17)\"},\"title\":{\"x\":0.05},\"updatemenudefaults\":{\"bgcolor\":\"#506784\",\"borderwidth\":0},\"sliderdefaults\":{\"bgcolor\":\"#C8D4E3\",\"borderwidth\":1,\"bordercolor\":\"rgb(17,17,17)\",\"tickwidth\":0},\"mapbox\":{\"style\":\"dark\"}}},\"title\":{\"text\":\"Kmeans Cluster\",\"xanchor\":\"center\",\"yanchor\":\"top\",\"x\":0.5},\"yaxis\":{\"title\":{\"text\":\"Y-Axis\"},\"ticklen\":5,\"tickwidth\":1,\"tickcolor\":\"black\",\"ticks\":\"outside\"},\"xaxis\":{\"title\":{\"text\":\"X-Axis\",\"standoff\":2},\"ticklen\":5,\"tickwidth\":1,\"tickcolor\":\"black\",\"ticks\":\"outside\"},\"annotations\":[{\"align\":\"center\",\"showarrow\":false,\"text\":\"\",\"x\":0.5,\"xref\":\"paper\",\"y\":-0.2,\"yref\":\"paper\"}]},                        {\"responsive\": true}                    ).then(function(){\n",
       "                            \n",
       "var gd = document.getElementById('d8d2f6dc-3449-4609-ae09-a1fa4e41657a');\n",
       "var x = new MutationObserver(function (mutations, observer) {{\n",
       "        var display = window.getComputedStyle(gd).display;\n",
       "        if (!display || display === 'none') {{\n",
       "            console.log([gd, 'removed!']);\n",
       "            Plotly.purge(gd);\n",
       "            observer.disconnect();\n",
       "        }}\n",
       "}});\n",
       "\n",
       "// Listen for the removal of the full notebook cells\n",
       "var notebookContainer = gd.closest('#notebook-container');\n",
       "if (notebookContainer) {{\n",
       "    x.observe(notebookContainer, {childList: true});\n",
       "}}\n",
       "\n",
       "// Listen for the clearing of the current output cell\n",
       "var outputEl = gd.closest('.output');\n",
       "if (outputEl) {{\n",
       "    x.observe(outputEl, {childList: true});\n",
       "}}\n",
       "\n",
       "                        })                };                });            </script>        </div>"
      ]
     },
     "metadata": {},
     "output_type": "display_data"
    }
   ],
   "execution_count": 86
  }
 ],
 "metadata": {
  "kernelspec": {
   "display_name": "Python 3",
   "language": "python",
   "name": "python3"
  },
  "language_info": {
   "codemirror_mode": {
    "name": "ipython",
    "version": 2
   },
   "file_extension": ".py",
   "mimetype": "text/x-python",
   "name": "python",
   "nbconvert_exporter": "python",
   "pygments_lexer": "ipython2",
   "version": "2.7.6"
  }
 },
 "nbformat": 4,
 "nbformat_minor": 5
}
